{
 "cells": [
  {
   "cell_type": "markdown",
   "metadata": {},
   "source": [
    "# Exercises"
   ]
  },
  {
   "cell_type": "markdown",
   "metadata": {},
   "source": [
    "### #1 - Calculate the BMI (body mass index) on the two lists below using NDArrays..."
   ]
  },
  {
   "cell_type": "code",
   "execution_count": 1,
   "metadata": {},
   "outputs": [],
   "source": [
    "import numpy as np\n",
    "# formula = weight / (height**2) * 730\n",
    "height = [69, 70, 71, 72, 73, 74, 75]\n",
    "weight = [110, 120, 130, 140, 150, 160, 170]\n",
    "\n",
    "# OUTPUT: [16.86620458 17.87755102 18.82562984 19.71450617 20.54794521 21.32943755\n",
    "# 22.06222222]\n"
   ]
  },
  {
   "cell_type": "code",
   "execution_count": 5,
   "metadata": {},
   "outputs": [
    {
     "name": "stdout",
     "output_type": "stream",
     "text": [
      "[16.86620458 17.87755102 18.82562984 19.71450617 20.54794521 21.32943755\n",
      " 22.06222222]\n"
     ]
    }
   ],
   "source": [
    "###ANSWER###\n",
    "import numpy as np\n",
    "height = [69, 70, 71, 72, 73, 74, 75]\n",
    "weight = [110, 120, 130, 140, 150, 160, 170]\n",
    "\n",
    "height_arr = np.array(height)\n",
    "weight_arr = np.array(weight)\n",
    "\n",
    "def bmi_arr(hght, wght):\n",
    "    bmi = wght / (hght**2) * 730\n",
    "    return bmi\n",
    "\n",
    "print(bmi_arr(height_arr, weight_arr))\n",
    "    \n"
   ]
  },
  {
   "cell_type": "markdown",
   "metadata": {},
   "source": [
    "### #2 - Create a function that will take in two parameters and will create a random matrix based off of those parameters. Extra: Have additional parameters taken in that allow the user to choose the shape and data type of the matrix."
   ]
  },
  {
   "cell_type": "code",
   "execution_count": 2,
   "metadata": {},
   "outputs": [
    {
     "data": {
      "text/plain": [
       "'\\nExample Result\\narray([[14.21633515,  7.98846653,  9.64140715],\\n       [ 6.30982234,  9.96414331,  8.43153688],\\n       [14.73102068, 11.76072894, 14.23356121]])\\n'"
      ]
     },
     "execution_count": 2,
     "metadata": {},
     "output_type": "execute_result"
    }
   ],
   "source": [
    "\"\"\"\n",
    "Example Result\n",
    "array([[14.21633515,  7.98846653,  9.64140715],\n",
    "       [ 6.30982234,  9.96414331,  8.43153688],\n",
    "       [14.73102068, 11.76072894, 14.23356121]])\n",
    "\"\"\"\n",
    "# def makeMatrix(low,high,shape,data_type = float): -- Example\n",
    "#     pass"
   ]
  },
  {
   "cell_type": "code",
   "execution_count": 20,
   "metadata": {},
   "outputs": [
    {
     "name": "stdout",
     "output_type": "stream",
     "text": [
      "[[0.67439961]]\n",
      "\n",
      "\n",
      "[[1.81572199 1.90729767 1.52264388]\n",
      " [1.01294901 1.45623229 1.59705087]\n",
      " [1.84233836 1.22572083 1.78499959]]\n",
      "\n",
      "\n",
      "[[4 1]\n",
      " [8 7]\n",
      " [2 0]\n",
      " [6 5]]\n"
     ]
    }
   ],
   "source": [
    "###ANSWER###\n",
    "import numpy as np\n",
    "\n",
    "def makeMatrix(low,high,rows = 1, cols = 1,data_type = float): \n",
    "    matrix = np.random.uniform(low, high, (rows, cols))\n",
    "    matrix2 = matrix.astype(data_type)\n",
    "    return matrix2\n",
    "\n",
    "print(makeMatrix(0,20))\n",
    "print('\\n')\n",
    "print(makeMatrix(1,2,3,3))\n",
    "print('\\n')\n",
    "print(makeMatrix(0,10,4,2,int))"
   ]
  },
  {
   "cell_type": "markdown",
   "metadata": {},
   "source": [
    "### #3 - Extra: Open and load the data in the two text files that have the Boston Red Sox hitting data for the past seasons. Compare the difference in the two years by putting the data into an NDArray and running a differencial operation on it. The column to look for will be SLG.\n",
    "\n",
    "Your output should display which year (either 2017 or 2018) was a better year based on SLG"
   ]
  },
  {
   "cell_type": "code",
   "execution_count": null,
   "metadata": {},
   "outputs": [],
   "source": [
    "import csv\n",
    "import numpy as np\n",
    "\n",
    "#Test to make sure you have the correct data\n",
    "\n"
   ]
  },
  {
   "cell_type": "code",
   "execution_count": 23,
   "metadata": {},
   "outputs": [],
   "source": [
    "\"\"\"\n",
    "Example Result - Not the actual result\n",
    "Boston 18 had more SLG in 2018\n",
    "[0.404 0.443 0.392 0.403 0.482 0.424 0.402 0.459 0.429 0.354 0.387 0.333\n",
    " 0.539 0.243 0.262 0.354 0.342 0.339 0.328 0.306 0.222 0.2   1.   ]\n",
    "\"\"\"\n",
    "\n",
    "FIELDS = ['Rk', 'Pos', 'Name', 'Age', 'G', 'PA', 'AB', 'R', 'H', '2B', '3B', 'HR', 'RBI', 'SB', 'CS', \n",
    "          'BB', 'SO', 'BA', 'OBP', 'SLG', 'OPS', 'OPS+', 'TB', 'GDP', 'HBP', 'SH', 'SF', 'IBB']\n",
    "\n",
    "DATATYPES = [('rk', 'i'), ('pos', '|S25'), ('name', '|S25'), ('age', 'i'), ('g', 'i'), ('pa', 'i'), ('ab', 'i'),\n",
    "                ('r', 'i'), ('h', 'i'), ('2b', 'i'), ('3b', 'i'), ('hr', 'i'), ('rbi', 'i'), ('sb', 'i'), ('cs', 'i'),\n",
    "                ('bb', 'i'), ('so', 'i'), ('ba', 'f'), ('obp', 'f'), ('slg', 'f'), ('ops', 'f'), ('opsp', 'i'),\n",
    "                ('tb', 'i'), ('gdp', 'i'), ('hbp', 'i'), ('sh', 'i'), ('sf', 'i'), ('ibb', 'i')]\n",
    "\n",
    "#Use this function to actually open the data inside of a NDArray\n",
    "\n"
   ]
  },
  {
   "cell_type": "code",
   "execution_count": 102,
   "metadata": {},
   "outputs": [
    {
     "name": "stdout",
     "output_type": "stream",
     "text": [
      "The sorted list for the 2017 SLG is:\n",
      "[('Andrew Benintendi', 0.424), ('Blake Swihart', 0.2), ('Brock Holt', 0.243), (\"Chase d'Arnaud\", 1.0), ('Chris Young', 0.387), ('Christian Vazquez', 0.404), ('Deven Marrero', 0.333), ('Dustin Pedroia', 0.392), ('Eduardo Nunez', 0.539), ('Hanley Ramirez', 0.429), ('Jackie Bradley Jr.', 0.402), ('Josh Rutledge', 0.262), ('Marco Hernandez', 0.328), ('Mitch Moreland', 0.443), ('Mookie Betts', 0.459), ('Pablo Sandoval', 0.354), ('Rafael Devers', 0.482), ('Rajai Davis', 0.306), ('Sam Travis', 0.342), ('Sandy Leon', 0.354), ('Steve Selsky', 0.222), ('Tzu-Wei Lin', 0.339), ('Xander Bogaerts', 0.403)]\n",
      "\n",
      "\n",
      "The sorted list for the 2018 SLG is:\n",
      "[('Andrew Benintendi', 0.465), ('Brock Holt', 0.507), ('Chris Young', 0.283), ('Christian Vazquez', 0.279), ('Deven Marrero', 0.328), ('Dustin Pedroia', 0.388), ('Eduardo Nunez', 0.395), ('Hanley Ramirez', 0.629), ('Jackie Bradley Jr.', 0.403), ('Josh Rutledge', 0.311), ('Marco Hernandez', 0.091), ('Mitch Moreland', 0.433), ('Mookie Betts', 0.64), ('Pablo Sandoval', 0.415), ('Rafael Devers', 0.433), ('Rajai Davis', 0.167), ('Sam Travis', 0.389), ('Sandy Leon', 0.411), ('Tzu-Wei Lin', 0.261), ('Xander Bogaerts', 0.522)]\n",
      "\n",
      "\n",
      "\n",
      "\n",
      "The difference of each player SLG (year 2 - year 1) is:\n",
      "[('Andrew Benintendi', 0.04100001), ('Brock Holt', 0.26400003), ('Chris Young', -0.104), ('Christian Vazquez', -0.125), ('Deven Marrero', -0.004999995), ('Dustin Pedroia', -0.0039999783), ('Eduardo Nunez', -0.14399996), ('Hanley Ramirez', 0.20000002), ('Jackie Bradley Jr.', 0.0009999871), ('Josh Rutledge', 0.048999995), ('Marco Hernandez', -0.23700002), ('Mitch Moreland', -0.00999999), ('Mookie Betts', 0.181), ('Pablo Sandoval', 0.06099999), ('Rafael Devers', -0.048999995), ('Rajai Davis', -0.139), ('Sam Travis', 0.04699999), ('Sandy Leon', 0.05700001), ('Tzu-Wei Lin', -0.07799998), ('Xander Bogaerts', 0.11900002)]\n",
      "\n",
      "\n",
      "\n",
      "The sum of SLG for 2017 is: 9.04699994623661\n",
      "The sum of SLG for 2018 is: 7.750000067055225\n",
      "The sum of SLG for both years is: 16.797000013291836\n",
      "\n",
      "\n",
      "The difference (year 2 - year 1) of SLG for both years is: -1.296999879181385\n"
     ]
    }
   ],
   "source": [
    "###ANSWER###\n",
    "\n",
    "def load_data(filename, d = ','):\n",
    "    data = np.genfromtxt(filename, delimiter = d, skip_header = 1,\n",
    "                        usecols = np.arange(0,24), invalid_raise = False,\n",
    "                        names = FIELDS, dtype = DATATYPES)\n",
    "    return data\n",
    "\n",
    "bs2017 = load_data(\"../files/redsox_2017_hitting.txt\")\n",
    "bs2018 = load_data(\"../files/redsox_2018_hitting.txt\")\n",
    "\n",
    "names = bs2017['Name'], bs2018['Name']\n",
    "\n",
    "#print(names)\n",
    "# print('\\n')\n",
    "\n",
    "bs2017_slg = bs2017[\"SLG\"]\n",
    "bs2018_slg = bs2018[\"SLG\"]\n",
    "bs2017_names = bs2017['Name']\n",
    "bs2018_names = bs2018['Name']\n",
    "new_names_2017 = []\n",
    "new_names_2018 = []\n",
    "\n",
    "def decoded_bs(bs_names, new_names):\n",
    "    for name in range(len(bs_names)):\n",
    "        new_names.append(bs_names[name].decode('utf-8'))\n",
    "    return new_names\n",
    "    \n",
    "new_names_2017 = decoded_bs(bs2017_names, new_names_2017)\n",
    "# print(new_names_2017)\n",
    "# print('\\n')\n",
    "new_names_2018 = decoded_bs(bs2017_names, new_names_2018)\n",
    "# print(new_names_2018)\n",
    "# print('\\n')\n",
    "\n",
    "def zipped_values(names, slg):\n",
    "    zipped_final = list(zip(names, slg))\n",
    "    return zipped_final\n",
    "\n",
    "zipped_2017 = zipped_values(new_names_2017, bs2017_slg)\n",
    "# print(zipped_2017)\n",
    "# print('\\n')\n",
    "zipped_2018 = zipped_values(new_names_2018, bs2018_slg)\n",
    "# print(zipped_2018)\n",
    "# print('\\n')\n",
    "\n",
    "def sorted_slg(zipped_values):\n",
    "    fin_sorted_slg = sorted(zipped_values, key = lambda x: x[0], reverse = False )\n",
    "    return fin_sorted_slg\n",
    "\n",
    "sorted_2017 = sorted_slg(zipped_2017)\n",
    "print(f'The sorted list for the 2017 SLG is:\\n{sorted_2017}')\n",
    "print('\\n')\n",
    "sorted_2018 = sorted_slg(zipped_2018)\n",
    "print(f'The sorted list for the 2018 SLG is:\\n{sorted_2018}')\n",
    "print('\\n')\n",
    "\n",
    "def slg_difference_player(year_1, year_2):\n",
    "    slg_diff = []\n",
    "    for player1 in year_1:\n",
    "        for player2 in year_2:\n",
    "            if player1[0] == player2[0]:\n",
    "                new_player = player1[0], player2[1]-player1[1]\n",
    "                slg_diff.append(new_player)\n",
    "    return slg_diff\n",
    "      \n",
    "slg_diff_plyr = slg_difference_player(sorted_2017, sorted_2018)\n",
    "print('\\n')\n",
    "print(f'The difference of each player SLG (year 2 - year 1) is:\\n{slg_diff_plyr}')\n",
    "        \n",
    "class slg_total():\n",
    "    def __init__(self, year_1, year_2):\n",
    "        self.year_1 = year_1\n",
    "        self.year_2 = year_2\n",
    "    \n",
    "    def slg_sum(year_1, year_2 = []):\n",
    "        slg_sum_l = []\n",
    "        for player1 in year_1:\n",
    "            slg_sum_l.append(player1[1])\n",
    "        for player2 in year_2:\n",
    "            slg_sum_l.append(player2[1])\n",
    "        return sum(slg_sum_l)\n",
    "    \n",
    "    def slg_diff(year_1, year_2):\n",
    "        slg_diff_l1 = []\n",
    "        slg_diff_l2 = []\n",
    "        for player1 in year_1:\n",
    "            slg_diff_l1.append(player1[1])\n",
    "        for player2 in year_2:\n",
    "            slg_diff_l2.append(player2[1])\n",
    "        slg_diff_tot = sum(slg_diff_l2) - sum(slg_diff_l1)\n",
    "        return slg_diff_tot\n",
    "\n",
    "print('\\n\\n')\n",
    "slg_sum_2017 = slg_total.slg_sum(sorted_2017)\n",
    "print(f'The sum of SLG for 2017 is: {slg_sum_2017}')\n",
    "slg_sum_2018 = slg_total.slg_sum(sorted_2018)\n",
    "print(f'The sum of SLG for 2018 is: {slg_sum_2018}')\n",
    "slg_sum_tot = slg_total.slg_sum(sorted_2017, sorted_2018)\n",
    "print(f'The sum of SLG for both years is: {slg_sum_tot}')\n",
    "print('\\n')\n",
    "slg_diff_tot = slg_total.slg_diff(sorted_2017, sorted_2018)\n",
    "print(f'The difference (year 2 - year 1) of SLG for both years is: {slg_diff_tot}')\n",
    "        \n",
    "    "
   ]
  },
  {
   "cell_type": "code",
   "execution_count": null,
   "metadata": {},
   "outputs": [],
   "source": []
  }
 ],
 "metadata": {
  "kernelspec": {
   "display_name": "Python 3",
   "language": "python",
   "name": "python3"
  },
  "language_info": {
   "codemirror_mode": {
    "name": "ipython",
    "version": 3
   },
   "file_extension": ".py",
   "mimetype": "text/x-python",
   "name": "python",
   "nbconvert_exporter": "python",
   "pygments_lexer": "ipython3",
   "version": "3.8.5"
  }
 },
 "nbformat": 4,
 "nbformat_minor": 2
}
